{
  "cells": [
    {
      "cell_type": "markdown",
      "metadata": {
        "id": "Ect__fbVj28S"
      },
      "source": [
        "# Deep Deterministic Policy Gradient (DDPG)\n",
        "\n",
        "**Author:** [amifunny](https://github.com/amifunny)<br>\n",
        "**Date created:** 2020/06/04<br>\n",
        "**Last modified:** 2024/03/23<br>\n",
        "**Description:** Implementing DDPG algorithm on the Inverted Pendulum Problem."
      ]
    },
    {
      "cell_type": "markdown",
      "metadata": {
        "id": "eMl5rA2Wj28Y"
      },
      "source": [
        "## Introduction\n",
        "\n",
        "**Deep Deterministic Policy Gradient (DDPG)** is a model-free off-policy algorithm for\n",
        "learning continous actions.\n",
        "\n",
        "It combines ideas from DPG (Deterministic Policy Gradient) and DQN (Deep Q-Network).\n",
        "It uses Experience Replay and slow-learning target networks from DQN, and it is based on\n",
        "DPG, which can operate over continuous action spaces.\n",
        "\n",
        "This tutorial closely follow this paper -\n",
        "[Continuous control with deep reinforcement learning](https://arxiv.org/abs/1509.02971)\n",
        "\n",
        "## Problem\n",
        "\n",
        "We are trying to solve the classic **Inverted Pendulum** control problem.\n",
        "In this setting, we can take only two actions: swing left or swing right.\n",
        "\n",
        "What make this problem challenging for Q-Learning Algorithms is that actions\n",
        "are **continuous** instead of being **discrete**. That is, instead of using two\n",
        "discrete actions like `-1` or `+1`, we have to select from infinite actions\n",
        "ranging from `-2` to `+2`.\n",
        "\n",
        "## Quick theory\n",
        "\n",
        "Just like the Actor-Critic method, we have two networks:\n",
        "\n",
        "1. Actor - It proposes an action given a state.\n",
        "2. Critic - It predicts if the action is good (positive value) or bad (negative value)\n",
        "given a state and an action.\n",
        "\n",
        "DDPG uses two more techniques not present in the original DQN:\n",
        "\n",
        "**First, it uses two Target networks.**\n",
        "\n",
        "**Why?** Because it add stability to training. In short, we are learning from estimated\n",
        "targets and Target networks are updated slowly, hence keeping our estimated targets\n",
        "stable.\n",
        "\n",
        "Conceptually, this is like saying, \"I have an idea of how to play this well,\n",
        "I'm going to try it out for a bit until I find something better\",\n",
        "as opposed to saying \"I'm going to re-learn how to play this entire game after every\n",
        "move\".\n",
        "See this [StackOverflow answer](https://stackoverflow.com/a/54238556/13475679).\n",
        "\n",
        "**Second, it uses Experience Replay.**\n",
        "\n",
        "We store list of tuples `(state, action, reward, next_state)`, and instead of\n",
        "learning only from recent experience, we learn from sampling all of our experience\n",
        "accumulated so far.\n",
        "\n",
        "Now, let's see how is it implemented."
      ]
    },
    {
      "cell_type": "code",
      "source": [
        "pip install gymnasium"
      ],
      "metadata": {
        "colab": {
          "base_uri": "https://localhost:8080/"
        },
        "id": "4XXNI7L8s7ig",
        "outputId": "99554336-b65e-4da2-a3fe-c058cbd5ccf5"
      },
      "execution_count": null,
      "outputs": [
        {
          "output_type": "stream",
          "name": "stdout",
          "text": [
            "Collecting gymnasium\n",
            "  Downloading gymnasium-0.29.1-py3-none-any.whl (953 kB)\n",
            "\u001b[?25l     \u001b[90m━━━━━━━━━━━━━━━━━━━━━━━━━━━━━━━━━━━━━━━━\u001b[0m \u001b[32m0.0/953.9 kB\u001b[0m \u001b[31m?\u001b[0m eta \u001b[36m-:--:--\u001b[0m\r\u001b[2K     \u001b[91m━━━━━━━━━━━━━━━━━━━━━━━━━━━━━━━━━━━━━━━\u001b[0m\u001b[91m╸\u001b[0m \u001b[32m952.3/953.9 kB\u001b[0m \u001b[31m30.7 MB/s\u001b[0m eta \u001b[36m0:00:01\u001b[0m\r\u001b[2K     \u001b[90m━━━━━━━━━━━━━━━━━━━━━━━━━━━━━━━━━━━━━━━━\u001b[0m \u001b[32m953.9/953.9 kB\u001b[0m \u001b[31m22.7 MB/s\u001b[0m eta \u001b[36m0:00:00\u001b[0m\n",
            "\u001b[?25hRequirement already satisfied: numpy>=1.21.0 in /usr/local/lib/python3.10/dist-packages (from gymnasium) (1.25.2)\n",
            "Requirement already satisfied: cloudpickle>=1.2.0 in /usr/local/lib/python3.10/dist-packages (from gymnasium) (2.2.1)\n",
            "Requirement already satisfied: typing-extensions>=4.3.0 in /usr/local/lib/python3.10/dist-packages (from gymnasium) (4.11.0)\n",
            "Collecting farama-notifications>=0.0.1 (from gymnasium)\n",
            "  Downloading Farama_Notifications-0.0.4-py3-none-any.whl (2.5 kB)\n",
            "Installing collected packages: farama-notifications, gymnasium\n",
            "Successfully installed farama-notifications-0.0.4 gymnasium-0.29.1\n"
          ]
        }
      ]
    },
    {
      "cell_type": "code",
      "execution_count": null,
      "metadata": {
        "id": "TlPU-N--j28a"
      },
      "outputs": [],
      "source": [
        "import os\n",
        "\n",
        "os.environ[\"KERAS_BACKEND\"] = \"tensorflow\"\n",
        "\n",
        "import tensorflow as tf\n",
        "import tensorflow.keras.layers as layers  # para acessar as camadas diretamente\n",
        "import numpy as np\n",
        "import matplotlib.pyplot as plt\n",
        "\n",
        "import gym"
      ]
    },
    {
      "cell_type": "markdown",
      "metadata": {
        "id": "5AJhYMCcj28c"
      },
      "source": [
        "We use [Gymnasium](https://gymnasium.farama.org/) to create the environment.\n",
        "We will use the `upper_bound` parameter to scale our actions later."
      ]
    },
    {
      "cell_type": "code",
      "execution_count": null,
      "metadata": {
        "id": "revCtKKPj28d",
        "colab": {
          "base_uri": "https://localhost:8080/"
        },
        "outputId": "3300068b-0e0b-4f42-c96d-8aa4aea25a8b"
      },
      "outputs": [
        {
          "output_type": "stream",
          "name": "stdout",
          "text": [
            "Size of State Space ->  3\n",
            "Size of Action Space ->  1\n",
            "Max Value of Action ->  2.0\n",
            "Min Value of Action ->  -2.0\n"
          ]
        },
        {
          "output_type": "stream",
          "name": "stderr",
          "text": [
            "/usr/local/lib/python3.10/dist-packages/gym/core.py:317: DeprecationWarning: \u001b[33mWARN: Initializing wrapper in old step API which returns one bool instead of two. It is recommended to set `new_step_api=True` to use new step API. This will be the default behaviour in future.\u001b[0m\n",
            "  deprecation(\n",
            "/usr/local/lib/python3.10/dist-packages/gym/wrappers/step_api_compatibility.py:39: DeprecationWarning: \u001b[33mWARN: Initializing environment in old step API which returns one bool instead of two. It is recommended to set `new_step_api=True` to use new step API. This will be the default behaviour in future.\u001b[0m\n",
            "  deprecation(\n"
          ]
        }
      ],
      "source": [
        "# Specify the `render_mode` parameter to show the attempts of the agent in a pop up window.\n",
        "env = gym.make(\"Pendulum-v1\", render_mode=\"human\")\n",
        "\n",
        "num_states = env.observation_space.shape[0]\n",
        "print(\"Size of State Space ->  {}\".format(num_states))\n",
        "num_actions = env.action_space.shape[0]\n",
        "print(\"Size of Action Space ->  {}\".format(num_actions))\n",
        "\n",
        "upper_bound = env.action_space.high[0]\n",
        "lower_bound = env.action_space.low[0]\n",
        "\n",
        "print(\"Max Value of Action ->  {}\".format(upper_bound))\n",
        "print(\"Min Value of Action ->  {}\".format(lower_bound))"
      ]
    },
    {
      "cell_type": "markdown",
      "metadata": {
        "id": "tb7_DtYvj28d"
      },
      "source": [
        "To implement better exploration by the Actor network, we use noisy perturbations,\n",
        "specifically\n",
        "an **Ornstein-Uhlenbeck process** for generating noise, as described in the paper.\n",
        "It samples noise from a correlated normal distribution."
      ]
    },
    {
      "cell_type": "code",
      "execution_count": null,
      "metadata": {
        "id": "LKgd7AnUj28e"
      },
      "outputs": [],
      "source": [
        "\n",
        "class OUActionNoise:\n",
        "    def __init__(self, mean, std_deviation, theta=0.15, dt=1e-2, x_initial=None):\n",
        "        self.theta = theta\n",
        "        self.mean = mean\n",
        "        self.std_dev = std_deviation\n",
        "        self.dt = dt\n",
        "        self.x_initial = x_initial\n",
        "        self.reset()\n",
        "\n",
        "    def __call__(self):\n",
        "        # Formula taken from https://www.wikipedia.org/wiki/Ornstein-Uhlenbeck_process\n",
        "        x = (\n",
        "            self.x_prev\n",
        "            + self.theta * (self.mean - self.x_prev) * self.dt\n",
        "            + self.std_dev * np.sqrt(self.dt) * np.random.normal(size=self.mean.shape)\n",
        "        )\n",
        "        # Store x into x_prev\n",
        "        # Makes next noise dependent on current one\n",
        "        self.x_prev = x\n",
        "        return x\n",
        "\n",
        "    def reset(self):\n",
        "        if self.x_initial is not None:\n",
        "            self.x_prev = self.x_initial\n",
        "        else:\n",
        "            self.x_prev = np.zeros_like(self.mean)\n"
      ]
    },
    {
      "cell_type": "markdown",
      "metadata": {
        "id": "QVn8eu3Hj28f"
      },
      "source": [
        "The `Buffer` class implements Experience Replay.\n",
        "\n",
        "---\n",
        "![Algorithm](https://i.imgur.com/mS6iGyJ.jpg)\n",
        "---\n",
        "\n",
        "\n",
        "**Critic loss** - Mean Squared Error of `y - Q(s, a)`\n",
        "where `y` is the expected return as seen by the Target network,\n",
        "and `Q(s, a)` is action value predicted by the Critic network. `y` is a moving target\n",
        "that the critic model tries to achieve; we make this target\n",
        "stable by updating the Target model slowly.\n",
        "\n",
        "**Actor loss** - This is computed using the mean of the value given by the Critic network\n",
        "for the actions taken by the Actor network. We seek to maximize this quantity.\n",
        "\n",
        "Hence we update the Actor network so that it produces actions that get\n",
        "the maximum predicted value as seen by the Critic, for a given state."
      ]
    },
    {
      "cell_type": "code",
      "execution_count": null,
      "metadata": {
        "id": "mjgpZaK8j28f"
      },
      "outputs": [],
      "source": [
        "\n",
        "class Buffer:\n",
        "    def __init__(self, buffer_capacity=100000, batch_size=64):\n",
        "        # Number of \"experiences\" to store at max\n",
        "        self.buffer_capacity = buffer_capacity\n",
        "        # Num of tuples to train on.\n",
        "        self.batch_size = batch_size\n",
        "\n",
        "        # Its tells us num of times record() was called.\n",
        "        self.buffer_counter = 0\n",
        "\n",
        "        # Instead of list of tuples as the exp.replay concept go\n",
        "        # We use different np.arrays for each tuple element\n",
        "        self.state_buffer = np.zeros((self.buffer_capacity, num_states))\n",
        "        self.action_buffer = np.zeros((self.buffer_capacity, num_actions))\n",
        "        self.reward_buffer = np.zeros((self.buffer_capacity, 1))\n",
        "        self.next_state_buffer = np.zeros((self.buffer_capacity, num_states))\n",
        "\n",
        "    # Takes (s,a,r,s') obervation tuple as input\n",
        "    def record(self, obs_tuple):\n",
        "        # Set index to zero if buffer_capacity is exceeded,\n",
        "        # replacing old records\n",
        "        index = self.buffer_counter % self.buffer_capacity\n",
        "\n",
        "        self.state_buffer[index] = obs_tuple[0]\n",
        "        self.action_buffer[index] = obs_tuple[1]\n",
        "        self.reward_buffer[index] = obs_tuple[2]\n",
        "        self.next_state_buffer[index] = obs_tuple[3]\n",
        "\n",
        "        self.buffer_counter += 1\n",
        "\n",
        "    # Eager execution is turned on by default in TensorFlow 2. Decorating with tf.function allows\n",
        "    # TensorFlow to build a static graph out of the logic and computations in our function.\n",
        "    # This provides a large speed up for blocks of code that contain many small TensorFlow operations such as this one.\n",
        "    @tf.function\n",
        "    def update(\n",
        "        self,\n",
        "        state_batch,\n",
        "        action_batch,\n",
        "        reward_batch,\n",
        "        next_state_batch,\n",
        "    ):\n",
        "        # Training and updating Actor & Critic networks.\n",
        "        # See Pseudo Code.\n",
        "\n",
        "        # Dentro da função update\n",
        "        with tf.GradientTape() as tape:\n",
        "            target_actions = target_actor(next_state_batch, training=True)\n",
        "            y = reward_batch + gamma * target_critic([next_state_batch, target_actions], training=True)\n",
        "            critic_value = critic_model([state_batch, action_batch], training=True)\n",
        "            critic_loss = tf.reduce_mean(tf.square(y - critic_value))\n",
        "\n",
        "        critic_grad = tape.gradient(critic_loss, critic_model.trainable_variables)\n",
        "        critic_optimizer.apply_gradients(zip(critic_grad, critic_model.trainable_variables))\n",
        "\n",
        "        with tf.GradientTape() as tape:\n",
        "            actions = actor_model(state_batch, training=True)\n",
        "            critic_value = critic_model([state_batch, actions], training=True)\n",
        "            actor_loss = -tf.reduce_mean(critic_value)\n",
        "\n",
        "        actor_grad = tape.gradient(actor_loss, actor_model.trainable_variables)\n",
        "        actor_optimizer.apply_gradients(zip(actor_grad, actor_model.trainable_variables))\n",
        "\n",
        "\n",
        "    # We compute the loss and update parameters\n",
        "    def learn(self):\n",
        "        # Get sampling range\n",
        "        record_range = min(self.buffer_counter, self.buffer_capacity)\n",
        "        # Randomly sample indices\n",
        "        batch_indices = np.random.choice(record_range, self.batch_size)\n",
        "\n",
        "        # Convert to tensors\n",
        "        state_batch = tf.convert_to_tensor(self.state_buffer[batch_indices])\n",
        "        action_batch = tf.convert_to_tensor(self.action_buffer[batch_indices])\n",
        "        reward_batch = tf.convert_to_tensor(self.reward_buffer[batch_indices])\n",
        "\n",
        "        reward_batch = tf.cast(reward_batch, dtype=tf.float32)\n",
        "        next_state_batch = tf.convert_to_tensor(self.next_state_buffer[batch_indices])\n",
        "\n",
        "        self.update(state_batch, action_batch, reward_batch, next_state_batch)\n",
        "\n",
        "\n",
        "# This update target parameters slowly\n",
        "# Based on rate `tau`, which is much less than one.\n",
        "def update_target(target, original, tau):\n",
        "    target_weights = target.get_weights()\n",
        "    original_weights = original.get_weights()\n",
        "\n",
        "    for i in range(len(target_weights)):\n",
        "        target_weights[i] = original_weights[i] * tau + target_weights[i] * (1 - tau)\n",
        "\n",
        "    target.set_weights(target_weights)\n"
      ]
    },
    {
      "cell_type": "markdown",
      "metadata": {
        "id": "r1HpKWqlj28g"
      },
      "source": [
        "Here we define the Actor and Critic networks. These are basic Dense models\n",
        "with `ReLU` activation.\n",
        "\n",
        "Note: We need the initialization for last layer of the Actor to be between\n",
        "`-0.003` and `0.003` as this prevents us from getting `1` or `-1` output values in\n",
        "the initial stages, which would squash our gradients to zero,\n",
        "as we use the `tanh` activation."
      ]
    },
    {
      "cell_type": "code",
      "execution_count": null,
      "metadata": {
        "id": "swMtWOSYj28h"
      },
      "outputs": [],
      "source": [
        "\n",
        "def get_actor():\n",
        "    # Initialize weights between -3e-3 and 3-e3\n",
        "    last_init = keras.initializers.RandomUniform(minval=-0.003, maxval=0.003)\n",
        "\n",
        "    inputs = layers.Input(shape=(num_states,))\n",
        "    out = layers.Dense(256, activation=\"relu\")(inputs)\n",
        "    out = layers.Dense(256, activation=\"relu\")(out)\n",
        "    outputs = layers.Dense(1, activation=\"tanh\", kernel_initializer=last_init)(out)\n",
        "\n",
        "    # Our upper bound is 2.0 for Pendulum.\n",
        "    outputs = outputs * upper_bound\n",
        "    model = keras.Model(inputs, outputs)\n",
        "    return model\n",
        "\n",
        "\n",
        "def get_critic():\n",
        "    # State as input\n",
        "    state_input = layers.Input(shape=(num_states,))\n",
        "    state_out = layers.Dense(16, activation=\"relu\")(state_input)\n",
        "    state_out = layers.Dense(32, activation=\"relu\")(state_out)\n",
        "\n",
        "    # Action as input\n",
        "    action_input = layers.Input(shape=(num_actions,))\n",
        "    action_out = layers.Dense(32, activation=\"relu\")(action_input)\n",
        "\n",
        "    # Both are passed through seperate layer before concatenating\n",
        "    concat = layers.Concatenate()([state_out, action_out])\n",
        "\n",
        "    out = layers.Dense(256, activation=\"relu\")(concat)\n",
        "    out = layers.Dense(256, activation=\"relu\")(out)\n",
        "    outputs = layers.Dense(1)(out)\n",
        "\n",
        "    # Outputs single value for give state-action\n",
        "    model = keras.Model([state_input, action_input], outputs)\n",
        "\n",
        "    return model\n"
      ]
    },
    {
      "cell_type": "markdown",
      "metadata": {
        "id": "lX3v7Yawj28h"
      },
      "source": [
        "\\`policy()` returns an action sampled from our Actor network plus some noise for\n",
        "exploration."
      ]
    },
    {
      "cell_type": "code",
      "execution_count": null,
      "metadata": {
        "id": "1obtpsLsj28h"
      },
      "outputs": [],
      "source": [
        "\n",
        "def policy(state, noise_object):\n",
        "    sampled_actions = tf.squeeze(actor_model(state))\n",
        "    noise = noise_object()\n",
        "    # Adicionando ruído à ação\n",
        "    sampled_actions = sampled_actions.numpy() + noise\n",
        "\n",
        "    # Garantimos que a ação esteja dentro dos limites\n",
        "    legal_action = np.clip(sampled_actions, lower_bound, upper_bound)\n",
        "\n",
        "    return [np.squeeze(legal_action)]\n",
        "\n"
      ]
    },
    {
      "cell_type": "markdown",
      "metadata": {
        "id": "w7nhpqclj28h"
      },
      "source": [
        "## Training hyperparameters"
      ]
    },
    {
      "cell_type": "code",
      "execution_count": null,
      "metadata": {
        "id": "DYtVEUAJj28i"
      },
      "outputs": [],
      "source": [
        "std_dev = 0.2\n",
        "ou_noise = OUActionNoise(mean=np.zeros(1), std_deviation=float(std_dev) * np.ones(1))\n",
        "\n",
        "actor_model = get_actor()\n",
        "critic_model = get_critic()\n",
        "\n",
        "target_actor = get_actor()\n",
        "target_critic = get_critic()\n",
        "\n",
        "# Making the weights equal initially\n",
        "target_actor.set_weights(actor_model.get_weights())\n",
        "target_critic.set_weights(critic_model.get_weights())\n",
        "\n",
        "# Learning rate for actor-critic models\n",
        "critic_lr = 0.002\n",
        "actor_lr = 0.001\n",
        "\n",
        "critic_optimizer = keras.optimizers.Adam(critic_lr)\n",
        "actor_optimizer = keras.optimizers.Adam(actor_lr)\n",
        "\n",
        "total_episodes = 100\n",
        "# Discount factor for future rewards\n",
        "gamma = 0.99\n",
        "# Used to update target networks\n",
        "tau = 0.005\n",
        "\n",
        "buffer = Buffer(50000, 64)"
      ]
    },
    {
      "cell_type": "markdown",
      "metadata": {
        "id": "kmb3V6HXj28i"
      },
      "source": [
        "Now we implement our main training loop, and iterate over episodes.\n",
        "We sample actions using `policy()` and train with `learn()` at each time step,\n",
        "along with updating the Target networks at a rate `tau`."
      ]
    },
    {
      "cell_type": "code",
      "execution_count": null,
      "metadata": {
        "id": "f6GuTqxBj28i",
        "colab": {
          "base_uri": "https://localhost:8080/",
          "height": 1000
        },
        "outputId": "ffe4ad08-1df1-4863-f5e1-c5c61bb77aa3"
      },
      "outputs": [
        {
          "output_type": "stream",
          "name": "stdout",
          "text": [
            "Episode * 0 * Avg Reward is ==> -1231.3005721378777\n",
            "Episode * 1 * Avg Reward is ==> -1050.7560492404189\n",
            "Episode * 2 * Avg Reward is ==> -1209.5651525730727\n",
            "Episode * 3 * Avg Reward is ==> -1346.1395269871637\n",
            "Episode * 4 * Avg Reward is ==> -1400.4530266855013\n",
            "Episode * 5 * Avg Reward is ==> -1433.4437819367677\n",
            "Episode * 6 * Avg Reward is ==> -1441.8583176538086\n",
            "Episode * 7 * Avg Reward is ==> -1443.6739809322614\n",
            "Episode * 8 * Avg Reward is ==> -1401.8058759947535\n",
            "Episode * 9 * Avg Reward is ==> -1411.1297699959018\n",
            "Episode * 10 * Avg Reward is ==> -1377.441953357176\n",
            "Episode * 11 * Avg Reward is ==> -1377.0378657288966\n",
            "Episode * 12 * Avg Reward is ==> -1348.6528405097572\n",
            "Episode * 13 * Avg Reward is ==> -1315.2634363647187\n",
            "Episode * 14 * Avg Reward is ==> -1265.5125258428004\n",
            "Episode * 15 * Avg Reward is ==> -1194.544700564561\n",
            "Episode * 16 * Avg Reward is ==> -1124.4535414343868\n",
            "Episode * 17 * Avg Reward is ==> -1069.077366205433\n",
            "Episode * 18 * Avg Reward is ==> -1019.7231912585462\n",
            "Episode * 19 * Avg Reward is ==> -975.1623046330458\n",
            "Episode * 20 * Avg Reward is ==> -934.7382314743869\n",
            "Episode * 21 * Avg Reward is ==> -897.5201516826882\n",
            "Episode * 22 * Avg Reward is ==> -864.0060083652675\n",
            "Episode * 23 * Avg Reward is ==> -828.1141911158857\n",
            "Episode * 24 * Avg Reward is ==> -795.1398571123214\n",
            "Episode * 25 * Avg Reward is ==> -769.3761765008544\n",
            "Episode * 26 * Avg Reward is ==> -765.4556937170278\n",
            "Episode * 27 * Avg Reward is ==> -765.5723665685202\n",
            "Episode * 28 * Avg Reward is ==> -760.6779324487021\n",
            "Episode * 29 * Avg Reward is ==> -747.827608371779\n",
            "Episode * 30 * Avg Reward is ==> -735.7453461740299\n",
            "Episode * 31 * Avg Reward is ==> -720.6886512481915\n",
            "Episode * 32 * Avg Reward is ==> -702.9874009884039\n",
            "Episode * 33 * Avg Reward is ==> -689.6535104391832\n",
            "Episode * 34 * Avg Reward is ==> -673.6255442422469\n",
            "Episode * 35 * Avg Reward is ==> -658.4721360121308\n",
            "Episode * 36 * Avg Reward is ==> -647.7037310575632\n",
            "Episode * 37 * Avg Reward is ==> -634.2843699688694\n",
            "Episode * 38 * Avg Reward is ==> -624.1309282451804\n",
            "Episode * 39 * Avg Reward is ==> -615.2107874511312\n",
            "Episode * 40 * Avg Reward is ==> -587.8919035033992\n",
            "Episode * 41 * Avg Reward is ==> -575.4497303711531\n",
            "Episode * 42 * Avg Reward is ==> -546.5915986868067\n",
            "Episode * 43 * Avg Reward is ==> -509.075387184014\n",
            "Episode * 44 * Avg Reward is ==> -471.971356424044\n",
            "Episode * 45 * Avg Reward is ==> -437.94544096246193\n",
            "Episode * 46 * Avg Reward is ==> -403.8453989669291\n",
            "Episode * 47 * Avg Reward is ==> -374.03479678820065\n",
            "Episode * 48 * Avg Reward is ==> -350.3039895131136\n",
            "Episode * 49 * Avg Reward is ==> -319.0137348738455\n",
            "Episode * 50 * Avg Reward is ==> -293.1460347771135\n",
            "Episode * 51 * Avg Reward is ==> -264.88348515255603\n",
            "Episode * 52 * Avg Reward is ==> -245.5656661822437\n",
            "Episode * 53 * Avg Reward is ==> -226.74045609228793\n",
            "Episode * 54 * Avg Reward is ==> -218.68490007242136\n",
            "Episode * 55 * Avg Reward is ==> -221.34348135434522\n",
            "Episode * 56 * Avg Reward is ==> -221.3570993926051\n",
            "Episode * 57 * Avg Reward is ==> -218.3077181281588\n",
            "Episode * 58 * Avg Reward is ==> -231.53679153938464\n",
            "Episode * 59 * Avg Reward is ==> -231.6478738377506\n",
            "Episode * 60 * Avg Reward is ==> -235.03723104612678\n",
            "Episode * 61 * Avg Reward is ==> -241.7798771949662\n",
            "Episode * 62 * Avg Reward is ==> -245.0461910929618\n",
            "Episode * 63 * Avg Reward is ==> -257.3894629405873\n",
            "Episode * 64 * Avg Reward is ==> -263.69092554293053\n",
            "Episode * 65 * Avg Reward is ==> -265.20625900127686\n",
            "Episode * 66 * Avg Reward is ==> -251.83042273584925\n",
            "Episode * 67 * Avg Reward is ==> -241.27647558019376\n",
            "Episode * 68 * Avg Reward is ==> -231.8419255270293\n",
            "Episode * 69 * Avg Reward is ==> -225.74410296285458\n",
            "Episode * 70 * Avg Reward is ==> -219.43618060217017\n",
            "Episode * 71 * Avg Reward is ==> -216.27135292654603\n",
            "Episode * 72 * Avg Reward is ==> -215.93970280891335\n",
            "Episode * 73 * Avg Reward is ==> -216.09966763916108\n",
            "Episode * 74 * Avg Reward is ==> -216.17534118252428\n",
            "Episode * 75 * Avg Reward is ==> -213.1746238281048\n",
            "Episode * 76 * Avg Reward is ==> -209.684969760252\n",
            "Episode * 77 * Avg Reward is ==> -206.37701147028503\n",
            "Episode * 78 * Avg Reward is ==> -203.6123532597635\n",
            "Episode * 79 * Avg Reward is ==> -202.99884361492758\n",
            "Episode * 80 * Avg Reward is ==> -203.04813244065986\n",
            "Episode * 81 * Avg Reward is ==> -202.5554453240437\n",
            "Episode * 82 * Avg Reward is ==> -196.3116625751858\n",
            "Episode * 83 * Avg Reward is ==> -193.29962514643788\n",
            "Episode * 84 * Avg Reward is ==> -193.1324938858973\n",
            "Episode * 85 * Avg Reward is ==> -190.43051677733024\n",
            "Episode * 86 * Avg Reward is ==> -190.28604422617792\n",
            "Episode * 87 * Avg Reward is ==> -190.03062624264493\n",
            "Episode * 88 * Avg Reward is ==> -203.38324683056345\n",
            "Episode * 89 * Avg Reward is ==> -206.39364697024456\n",
            "Episode * 90 * Avg Reward is ==> -212.35655500426986\n",
            "Episode * 91 * Avg Reward is ==> -212.40789530958108\n",
            "Episode * 92 * Avg Reward is ==> -209.82877219967366\n",
            "Episode * 93 * Avg Reward is ==> -212.6775763206868\n",
            "Episode * 94 * Avg Reward is ==> -218.88404419856957\n",
            "Episode * 95 * Avg Reward is ==> -225.41925154859572\n",
            "Episode * 96 * Avg Reward is ==> -231.54645457728856\n",
            "Episode * 97 * Avg Reward is ==> -237.8556548252749\n",
            "Episode * 98 * Avg Reward is ==> -224.5825302223115\n",
            "Episode * 99 * Avg Reward is ==> -224.36403118354247\n"
          ]
        },
        {
          "output_type": "display_data",
          "data": {
            "text/plain": [
              "<Figure size 640x480 with 1 Axes>"
            ],
            "image/png": "[encoded data removed]"
          },
          "metadata": {}
        }
      ],
      "source": [
        "# To store reward history of each episode\n",
        "ep_reward_list = []\n",
        "# To store average reward history of last few episodes\n",
        "avg_reward_list = []\n",
        "\n",
        "# Takes about 4 min to train\n",
        "for ep in range(total_episodes):\n",
        "    prev_state = env.reset()\n",
        "    #prev_state, _ = env.reset()\n",
        "    episodic_reward = 0\n",
        "\n",
        "      # Dentro do loop while\n",
        "    while True:\n",
        "        tf_prev_state = tf.expand_dims(tf.convert_to_tensor(prev_state), 0)\n",
        "\n",
        "        action = policy(tf_prev_state, ou_noise)\n",
        "        # Receber estado e recompensa do ambiente.\n",
        "        state, reward, done, _ = env.step(action)\n",
        "\n",
        "        buffer.record((prev_state, action, reward, state))\n",
        "        episodic_reward += reward\n",
        "\n",
        "        buffer.learn()\n",
        "\n",
        "        update_target(target_actor, actor_model, tau)\n",
        "        update_target(target_critic, critic_model, tau)\n",
        "\n",
        "        # Encerrar este episódio quando `done` for True\n",
        "        if done:\n",
        "            break\n",
        "\n",
        "        prev_state = state\n",
        "\n",
        "\n",
        "    ep_reward_list.append(episodic_reward)\n",
        "\n",
        "    # Mean of last 40 episodes\n",
        "    avg_reward = np.mean(ep_reward_list[-40:])\n",
        "    print(\"Episode * {} * Avg Reward is ==> {}\".format(ep, avg_reward))\n",
        "    avg_reward_list.append(avg_reward)\n",
        "\n",
        "# Plotting graph\n",
        "# Episodes versus Avg. Rewards\n",
        "plt.plot(avg_reward_list)\n",
        "plt.xlabel(\"Episode\")\n",
        "plt.ylabel(\"Avg. Episodic Reward\")\n",
        "plt.show()"
      ]
    },
    {
      "cell_type": "markdown",
      "metadata": {
        "id": "BgirEEoKj28j"
      },
      "source": [
        "If training proceeds correctly, the average episodic reward will increase with time.\n",
        "\n",
        "Feel free to try different learning rates, `tau` values, and architectures for the\n",
        "Actor and Critic networks.\n",
        "\n",
        "The Inverted Pendulum problem has low complexity, but DDPG work great on many other\n",
        "problems.\n",
        "\n",
        "Another great environment to try this on is `LunarLander-v2` continuous, but it will take\n",
        "more episodes to obtain good results."
      ]
    },
    {
      "cell_type": "code",
      "execution_count": null,
      "metadata": {
        "id": "sOzhNkXcj28j"
      },
      "outputs": [],
      "source": [
        "# Save the weights\n",
        "actor_model.save_weights(\"pendulum_actor.weights.h5\")\n",
        "critic_model.save_weights(\"pendulum_critic.weights.h5\")\n",
        "\n",
        "target_actor.save_weights(\"pendulum_target_actor.weights.h5\")\n",
        "target_critic.save_weights(\"pendulum_target_critic.weights.h5\")"
      ]
    },
    {
      "cell_type": "markdown",
      "metadata": {
        "id": "jJH3VwP9j28j"
      },
      "source": [
        "Before Training:\n",
        "\n",
        "![before_img](https://i.imgur.com/ox6b9rC.gif)"
      ]
    },
    {
      "cell_type": "markdown",
      "metadata": {
        "id": "Vi3xgqOKj28j"
      },
      "source": [
        "After 100 episodes:\n",
        "\n",
        "![after_img](https://i.imgur.com/eEH8Cz6.gif)"
      ]
    }
  ],
  "metadata": {
    "accelerator": "GPU",
    "colab": {
      "provenance": [],
      "gpuType": "T4"
    },
    "kernelspec": {
      "display_name": "Python 3",
      "name": "python3"
    },
    "language_info": {
      "codemirror_mode": {
        "name": "ipython",
        "version": 3
      },
      "file_extension": ".py",
      "mimetype": "text/x-python",
      "name": "python",
      "nbconvert_exporter": "python",
      "pygments_lexer": "ipython3",
      "version": "3.7.0"
    }
  },
  "nbformat": 4,
  "nbformat_minor": 0
}